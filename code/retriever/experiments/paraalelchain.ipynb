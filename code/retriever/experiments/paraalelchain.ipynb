{
 "cells": [
  {
   "cell_type": "code",
   "execution_count": 2,
   "metadata": {},
   "outputs": [
    {
     "name": "stdout",
     "output_type": "stream",
     "text": [
      "step4: combined [start -> step1 done -> step2 done] and [start -> step1 done -> step3 done]\n"
     ]
    }
   ],
   "source": [
    "from langchain_core.runnables import RunnableLambda, RunnableParallel, RunnableSequence\n",
    "\n",
    "# --- Your functions ---\n",
    "def step1(input):\n",
    "    return f\"{input} -> step1 done\"\n",
    "\n",
    "def step2(input):\n",
    "    return f\"{input} -> step2 done\"\n",
    "\n",
    "def step3(input):\n",
    "    return f\"{input} -> step3 done\"\n",
    "\n",
    "def step4(inputs):  # receives a dict with results from step2 and step3\n",
    "    return f\"step4: combined [{inputs['s2']}] and [{inputs['s3']}]\"\n",
    "\n",
    "# --- Wrap them as RunnableLambda ---\n",
    "r_step1 = RunnableLambda(step1)\n",
    "r_step2 = RunnableLambda(step2)\n",
    "r_step3 = RunnableLambda(step3)\n",
    "r_step4 = RunnableLambda(step4)\n",
    "\n",
    "# --- Parallel block for step2 and step3 ---\n",
    "parallel_steps = RunnableParallel({\n",
    "    \"s2\": r_step2,\n",
    "    \"s3\": r_step3\n",
    "})\n",
    "\n",
    "# --- Combine all together ---\n",
    "# full_flow = RunnableSequence([\n",
    "#     r_step1,\n",
    "#     parallel_steps,\n",
    "#     r_step4\n",
    "# ])\n",
    "full_flow = r_step1 | parallel_steps | r_step4\n",
    "\n",
    "# --- Run the flow ---\n",
    "result = full_flow.invoke(\"start\")\n",
    "print(result)\n"
   ]
  },
  {
   "cell_type": "code",
   "execution_count": null,
   "metadata": {},
   "outputs": [],
   "source": []
  }
 ],
 "metadata": {
  "kernelspec": {
   "display_name": "agentless",
   "language": "python",
   "name": "python3"
  },
  "language_info": {
   "codemirror_mode": {
    "name": "ipython",
    "version": 3
   },
   "file_extension": ".py",
   "mimetype": "text/x-python",
   "name": "python",
   "nbconvert_exporter": "python",
   "pygments_lexer": "ipython3",
   "version": "3.11.11"
  }
 },
 "nbformat": 4,
 "nbformat_minor": 2
}
