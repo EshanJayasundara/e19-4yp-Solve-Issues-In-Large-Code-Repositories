{
 "cells": [
  {
   "cell_type": "code",
   "execution_count": 1,
   "metadata": {},
   "outputs": [],
   "source": [
    "\n",
    "from sandbox.specs import (\n",
    "    MAP_REPO_TO_REQS_PATHS,\n",
    "    MAP_REPO_VERSION_TO_SPECS_PY,\n",
    ")\n",
    "from sandbox import bash_session, docker_build"
   ]
  },
  {
   "cell_type": "code",
   "execution_count": 2,
   "metadata": {},
   "outputs": [
    {
     "name": "stderr",
     "output_type": "stream",
     "text": [
      "/home/lahiru-menik/miniconda3/envs/agentless/lib/python3.11/site-packages/tqdm/auto.py:21: TqdmWarning: IProgress not found. Please update jupyter and ipywidgets. See https://ipywidgets.readthedocs.io/en/stable/user_install.html\n",
      "  from .autonotebook import tqdm as notebook_tqdm\n"
     ]
    }
   ],
   "source": [
    "from datasets import load_dataset\n",
    "\n",
    "dataset = load_dataset(\"lahirum/SWE_Experimental\", split=\"train\")"
   ]
  },
  {
   "cell_type": "code",
   "execution_count": 3,
   "metadata": {},
   "outputs": [
    {
     "data": {
      "text/plain": [
       "{'python': '3.9',\n",
       " 'packages': 'requirements.txt',\n",
       " 'install': 'python -m pip install -e .',\n",
       " 'test_cmd': './tests/runtests.py --verbosity 2'}"
      ]
     },
     "execution_count": 3,
     "metadata": {},
     "output_type": "execute_result"
    }
   ],
   "source": [
    "MAP_REPO_VERSION_TO_SPECS_PY[dataset[0]['repo']][dataset[0]['version']]"
   ]
  },
  {
   "cell_type": "code",
   "execution_count": 23,
   "metadata": {},
   "outputs": [],
   "source": [
    "import docker\n",
    "\n",
    "def image_exists(name):\n",
    "    # client = docker.from_env()\n",
    "    client = docker.DockerClient(base_url='unix:///home/lahiru-menik/.docker/desktop/docker.sock')\n",
    "    print(client.images.list(), \"lll\")\n",
    "    try:\n",
    "        client.images.get(name)\n",
    "        return True\n",
    "    except docker.errors.ImageNotFound:\n",
    "        return False\n",
    "    except docker.errors.APIError as e:\n",
    "        print(f\"Docker API error: {e}\")\n",
    "        return False"
   ]
  },
  {
   "cell_type": "code",
   "execution_count": 24,
   "metadata": {},
   "outputs": [
    {
     "name": "stdout",
     "output_type": "stream",
     "text": [
      "[<Image: 'django_4.1:latest'>, <Image: 'django-env:4.2'>, <Image: 'swe/310:latest'>, <Image: 'httpd:2.4'>, <Image: 'hello-world:latest'>] lll\n",
      "True\n"
     ]
    }
   ],
   "source": [
    "print(image_exists(\"django_4.1\"))"
   ]
  },
  {
   "cell_type": "code",
   "execution_count": 22,
   "metadata": {},
   "outputs": [
    {
     "name": "stdout",
     "output_type": "stream",
     "text": [
      "[<Image: 'django_4.1:latest'>, <Image: 'django-env:4.2'>, <Image: 'swe/310:latest'>, <Image: 'httpd:2.4'>, <Image: 'hello-world:latest'>]\n"
     ]
    }
   ],
   "source": [
    "\n",
    "client = docker.DockerClient(base_url='unix:///home/lahiru-menik/.docker/desktop/docker.sock')\n",
    "images = client.images.list()\n",
    "print(images)"
   ]
  },
  {
   "cell_type": "code",
   "execution_count": 18,
   "metadata": {},
   "outputs": [
    {
     "name": "stdout",
     "output_type": "stream",
     "text": [
      "=== Docker SDK sees the following images ===\n",
      "sha256:74cc54e27dc41bb10dc4b2226072d469509f2f22f1a3ce74f4a59661a1d44602\n",
      "Tags: ['hello-world:latest']\n",
      "-----\n"
     ]
    }
   ],
   "source": [
    "import docker\n",
    "\n",
    "client = docker.from_env()\n",
    "images = client.images.list()\n",
    "\n",
    "print(\"=== Docker SDK sees the following images ===\")\n",
    "for image in images:\n",
    "    print(image.id)\n",
    "    print(\"Tags:\", image.tags)\n",
    "    print(\"-----\")"
   ]
  },
  {
   "cell_type": "code",
   "execution_count": 19,
   "metadata": {},
   "outputs": [
    {
     "name": "stdout",
     "output_type": "stream",
     "text": [
      "Docker SDK connected to: http+docker://localhost\n"
     ]
    }
   ],
   "source": [
    "import docker\n",
    "client = docker.from_env()\n",
    "print(\"Docker SDK connected to:\", client.api.base_url)\n"
   ]
  },
  {
   "cell_type": "code",
   "execution_count": 25,
   "metadata": {},
   "outputs": [
    {
     "name": "stdout",
     "output_type": "stream",
     "text": [
      "django\n",
      "DiGraph with 27538 nodes and 40138 edges\n",
      "Checked out to 4fd3044ca0135da903a70dfb66992293f529ecf1\n",
      "DiGraph with 27538 nodes and 40138 edges\n",
      "[<Image: 'django_4.1:latest'>, <Image: 'django-env:4.2'>, <Image: 'swe/310:latest'>, <Image: 'httpd:2.4'>, <Image: 'hello-world:latest'>] lll\n",
      "True\n",
      "a\n",
      "total 184\n",
      "drwxrwxr-x  12 sandbox sandbox  4096 May 27 15:24 \u001b[0m\u001b[01;34m.\u001b[0m\n",
      "drwxr-xr-x   1 root    root     4096 May 27 18:58 \u001b[01;34m..\u001b[0m\n",
      "-rw-rw-r--   1 sandbox sandbox   807 May 27 18:58 .editorconfig\n",
      "-rw-rw-r--   1 sandbox sandbox   120 May 27 18:58 .eslintignore\n",
      "-rw-rw-r--   1 sandbox sandbox  1407 May 27 18:58 .eslintrc\n",
      "drwxrwxr-x   8 sandbox sandbox  4096 May 27 15:24 \u001b[01;34m.git\u001b[0m\n",
      "-rw-rw-r--   1 sandbox sandbox   297 May 27 18:58 .gitattributes\n",
      "drwxrwxr-x   3 sandbox sandbox  4096 May 27 15:24 \u001b[01;34m.github\u001b[0m\n",
      "-rw-rw-r--   1 sandbox sandbox   353 May 27 18:58 .gitignore\n",
      "-rw-rw-r--   1 sandbox sandbox   281 May 27 18:58 .pre-commit-config.yaml\n",
      "-rw-rw-r--   1 sandbox sandbox   385 May 27 18:58 .readthedocs.yml\n",
      "drwxrwxr-x   2 sandbox sandbox  4096 May 27 15:24 \u001b[01;34m.tx\u001b[0m\n",
      "-rw-rw-r--   1 sandbox sandbox 39988 May 27 18:58 AUTHORS\n",
      "-rw-rw-r--   1 sandbox sandbox  1115 May 27 18:58 CONTRIBUTING.rst\n",
      "drwxrwxr-x   2 sandbox sandbox  4096 May 27 15:24 \u001b[01;34mDjango.egg-info\u001b[0m\n",
      "-rw-rw-r--   1 sandbox sandbox   369 May 27 18:58 Gruntfile.js\n",
      "-rw-rw-r--   1 sandbox sandbox   236 May 27 18:58 INSTALL\n",
      "-rw-rw-r--   1 sandbox sandbox  1552 May 27 18:58 LICENSE\n",
      "-rw-rw-r--   1 sandbox sandbox 14377 May 27 18:58 LICENSE.python\n",
      "-rw-rw-r--   1 sandbox sandbox   276 May 27 18:58 MANIFEST.in\n",
      "-rw-rw-r--   1 sandbox sandbox  2122 May 27 18:58 README.rst\n",
      "drwxrwxr-x  18 sandbox sandbox  4096 May 27 15:24 \u001b[01;34mdjango\u001b[0m\n",
      "drwxrwxr-x  13 sandbox sandbox  4096 May 27 15:24 \u001b[01;34mdocs\u001b[0m\n",
      "drwxrwxr-x   2 sandbox sandbox  4096 May 27 15:24 \u001b[01;34mextras\u001b[0m\n",
      "drwxrwxr-x   4 sandbox sandbox  4096 May 27 15:24 \u001b[01;34mjs_tests\u001b[0m\n",
      "-rw-rw-r--   1 sandbox sandbox   334 May 27 18:58 package.json\n",
      "-rw-rw-r--   1 sandbox sandbox   109 May 27 18:58 pyproject.toml\n",
      "drwxrwxr-x   2 sandbox sandbox  4096 May 27 15:24 \u001b[01;34mscripts\u001b[0m\n",
      "-rw-rw-r--   1 sandbox sandbox  2167 May 27 18:58 setup.cfg\n",
      "-rw-rw-r--   1 sandbox sandbox  1611 May 27 18:58 setup.py\n",
      "drwxrwxr-x 215 sandbox sandbox 12288 May 27 15:24 \u001b[01;34mtests\u001b[0m\n",
      "-rw-rw-r--   1 sandbox sandbox  1555 May 27 18:58 tox.ini\n",
      "\u001b[?2004h\u001b]0;sandbox@06380b44781d: /app\u0007sandbox@06380b44781d:/app\n"
     ]
    }
   ],
   "source": [
    "from commit import update\n",
    "import os\n",
    "import tempfile\n",
    "from pathlib import Path\n",
    "import pexpect\n",
    "\n",
    "for i in range(1):\n",
    "    commit_id = dataset[i]['base_commit']\n",
    "    fail_to_passs = dataset[i]['FAIL_TO_PASS']\n",
    "    version = dataset[i]['version']\n",
    "    pass_to_pass = dataset[i]['PASS_TO_PASS']\n",
    "    name = dataset[i]['instance_id'].split(\"__\")[0]\n",
    "    # print(name)\n",
    "    update(name, commit_id)\n",
    "    bash = bash_session.BashSession()\n",
    "    bash.run_command(f\"cp -r {name} testbed\")\n",
    "    host_dir = os.path.abspath(\".\") + \"/testbed/\" + name\n",
    "    container_dir = \"/app\" \n",
    "    exist_check = image_exists(name + \"_\" + version)\n",
    "    print(exist_check)\n",
    "    specs = MAP_REPO_VERSION_TO_SPECS_PY[dataset[i]['repo']][dataset[i]['version']]\n",
    "    # exist_check = bash.run_command(f\"docker images | grep -q '^{name+'_'+version}' && echo yes || echo no\")\n",
    "    if not exist_check:\n",
    "        print(f\"Building image {name}_{version}...\")\n",
    "        if \"pip_packages\" in specs:\n",
    "            pip_packages = \" \".join(specs[\"pip_packages\"])\n",
    "        else:\n",
    "            pip_packages = \"\"\n",
    "        if \"pre_install\" in specs:\n",
    "            pre_install_commands = \"\\n\".join(specs[\"pre_install\"])\n",
    "        else:\n",
    "            pre_install_commands = \"\"\n",
    "        dockerfile_str = docker_build.generate_dockerfile(\n",
    "            python_version= specs[\"python\"],\n",
    "            pre_install= pre_install_commands,\n",
    "            pip_packages=pip_packages,\n",
    "            \n",
    "        )\n",
    "        \n",
    "        tmpdir = tempfile.mkdtemp()\n",
    "        Path(f\"{tmpdir}/Dockerfile\").write_text(dockerfile_str)\n",
    "        print(f\"Generated Dockerfile for {name}_{version}\")\n",
    "        bash.run_command(f\"docker build -t {name}_{version} {tmpdir}\")\n",
    "        bash.logfile = open(f\"{name}_{version}_dockerbuild.log\", \"w\")\n",
    "      \n",
    "    bash.run_command(f\"docker run --mount type=bind,src={host_dir},dst={container_dir},ro -it {name}_{version} bash\")\n",
    "    print(bash.run_command(\"ls -la\"))\n",
    "        \n",
    "        \n",
    "    \n",
    "    \n",
    "    "
   ]
  },
  {
   "cell_type": "code",
   "execution_count": null,
   "metadata": {},
   "outputs": [],
   "source": []
  }
 ],
 "metadata": {
  "kernelspec": {
   "display_name": "agentless",
   "language": "python",
   "name": "python3"
  },
  "language_info": {
   "codemirror_mode": {
    "name": "ipython",
    "version": 3
   },
   "file_extension": ".py",
   "mimetype": "text/x-python",
   "name": "python",
   "nbconvert_exporter": "python",
   "pygments_lexer": "ipython3",
   "version": "3.11.11"
  }
 },
 "nbformat": 4,
 "nbformat_minor": 2
}
