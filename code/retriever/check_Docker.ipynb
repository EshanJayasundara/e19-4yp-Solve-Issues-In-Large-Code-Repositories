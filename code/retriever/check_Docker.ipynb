{
 "cells": [
  {
   "cell_type": "code",
   "execution_count": 1,
   "metadata": {},
   "outputs": [],
   "source": [
    "\n",
    "from sandbox.specs import (\n",
    "    MAP_REPO_TO_REQS_PATHS,\n",
    "    MAP_REPO_VERSION_TO_SPECS_PY,\n",
    ")\n",
    "from sandbox import bash_session, docker_build"
   ]
  },
  {
   "cell_type": "code",
   "execution_count": 2,
   "metadata": {},
   "outputs": [
    {
     "name": "stderr",
     "output_type": "stream",
     "text": [
      "/home/lahiru-menik/miniconda3/envs/agentless/lib/python3.11/site-packages/tqdm/auto.py:21: TqdmWarning: IProgress not found. Please update jupyter and ipywidgets. See https://ipywidgets.readthedocs.io/en/stable/user_install.html\n",
      "  from .autonotebook import tqdm as notebook_tqdm\n"
     ]
    }
   ],
   "source": [
    "from datasets import load_dataset\n",
    "\n",
    "dataset = load_dataset(\"lahirum/SWE_Experimental\", split=\"train\")"
   ]
  },
  {
   "cell_type": "code",
   "execution_count": 3,
   "metadata": {},
   "outputs": [
    {
     "data": {
      "text/plain": [
       "{'python': '3.9',\n",
       " 'packages': 'requirements.txt',\n",
       " 'install': 'python -m pip install -e .',\n",
       " 'test_cmd': './tests/runtests.py --verbosity 2'}"
      ]
     },
     "execution_count": 3,
     "metadata": {},
     "output_type": "execute_result"
    }
   ],
   "source": [
    "MAP_REPO_VERSION_TO_SPECS_PY[dataset[0]['repo']][dataset[0]['version']]"
   ]
  },
  {
   "cell_type": "code",
   "execution_count": 5,
   "metadata": {},
   "outputs": [],
   "source": [
    "import docker\n",
    "\n",
    "def image_exists(name):\n",
    "    client = docker.from_env()\n",
    "    try:\n",
    "        client.images.get(name)\n",
    "        return True\n",
    "    except docker.errors.ImageNotFound:\n",
    "        return False\n",
    "    except docker.errors.APIError as e:\n",
    "        print(f\"Docker API error: {e}\")\n",
    "        return False"
   ]
  },
  {
   "cell_type": "code",
   "execution_count": null,
   "metadata": {},
   "outputs": [
    {
     "name": "stdout",
     "output_type": "stream",
     "text": [
      "django\n",
      "DiGraph with 27538 nodes and 40138 edges\n",
      "Checked out to 4fd3044ca0135da903a70dfb66992293f529ecf1\n",
      "DiGraph with 27538 nodes and 40138 edges\n",
      "Building image django_4.1...\n",
      "Generated Dockerfile for django_4.1\n"
     ]
    }
   ],
   "source": [
    "from commit import update\n",
    "import os\n",
    "import tempfile\n",
    "from pathlib import Path\n",
    "import pexpect\n",
    "\n",
    "for i in range(1):\n",
    "    commit_id = dataset[i]['base_commit']\n",
    "    fail_to_passs = dataset[i]['FAIL_TO_PASS']\n",
    "    version = dataset[i]['version']\n",
    "    pass_to_pass = dataset[i]['PASS_TO_PASS']\n",
    "    name = dataset[i]['instance_id'].split(\"__\")[0]\n",
    "    # print(name)\n",
    "    update(name, commit_id)\n",
    "    bash = bash_session.BashSession()\n",
    "    bash.run_command(f\"cp -r {name} testbed\")\n",
    "    host_dir = os.path.abspath(\".\") + \"/testbed/\" + name\n",
    "    container_dir = \"/app\" \n",
    "    exist_check = image_exists(name + \"_\" + version)\n",
    "    # exist_check = bash.run_command(f\"docker images | grep -q '^{name+'_'+version}' && echo yes || echo no\")\n",
    "    if not exist_check:\n",
    "        print(f\"Building image {name}_{version}...\")\n",
    "        specs = MAP_REPO_VERSION_TO_SPECS_PY[dataset[i]['repo']][dataset[i]['version']]\n",
    "        if \"pip_packages\" in specs:\n",
    "            pip_packages = \" \".join(specs[\"pip_packages\"])\n",
    "        else:\n",
    "            pip_packages = \"\"\n",
    "        if \"pre_install\" in specs:\n",
    "            pre_install_commands = \"\\n\".join(specs[\"pre_install\"])\n",
    "        else:\n",
    "            pre_install_commands = \"\"\n",
    "        dockerfile_str = docker_build.generate_dockerfile(\n",
    "            python_version= specs[\"python\"],\n",
    "            pre_install= pre_install_commands,\n",
    "            pip_packages=pip_packages,\n",
    "            \n",
    "        )\n",
    "        \n",
    "        tmpdir = tempfile.mkdtemp()\n",
    "        Path(f\"{tmpdir}/Dockerfile\").write_text(dockerfile_str)\n",
    "        print(f\"Generated Dockerfile for {name}_{version}\")\n",
    "        bash.run_command(f\"docker build -t {name}_{version} {tmpdir}\")\n",
    "        bash.logfile = open(f\"{name}_{version}_dockerbuild.log\", \"w\")\n",
    "        bash.expect(pexpect.EOF, timeout=600)\n",
    "    \n",
    "    \n",
    "    "
   ]
  },
  {
   "cell_type": "code",
   "execution_count": null,
   "metadata": {},
   "outputs": [],
   "source": []
  }
 ],
 "metadata": {
  "kernelspec": {
   "display_name": "agentless",
   "language": "python",
   "name": "python3"
  },
  "language_info": {
   "codemirror_mode": {
    "name": "ipython",
    "version": 3
   },
   "file_extension": ".py",
   "mimetype": "text/x-python",
   "name": "python",
   "nbconvert_exporter": "python",
   "pygments_lexer": "ipython3",
   "version": "3.11.11"
  }
 },
 "nbformat": 4,
 "nbformat_minor": 2
}
